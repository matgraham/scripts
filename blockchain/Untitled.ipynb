{
 "cells": [
  {
   "cell_type": "markdown",
   "metadata": {},
   "source": [
    "# Hash Function and Mining"
   ]
  },
  {
   "cell_type": "code",
   "execution_count": 1,
   "metadata": {
    "collapsed": true
   },
   "outputs": [],
   "source": [
    "import hashlib\n",
    "import random\n",
    "import string\n",
    "import json\n",
    "import binascii\n",
    "import numpy as np\n",
    "import pandas as pd\n",
    "import pylab as pl\n",
    "import logging\n",
    "%matplotlib inline"
   ]
  },
  {
   "cell_type": "code",
   "execution_count": 2,
   "metadata": {
    "collapsed": true
   },
   "outputs": [],
   "source": [
    "def sha256(message):\n",
    "    return hashlib.sha256(message.encode('ascii')).hexdigest()"
   ]
  },
  {
   "cell_type": "code",
   "execution_count": 3,
   "metadata": {
    "collapsed": false
   },
   "outputs": [
    {
     "name": "stdout",
     "output_type": "stream",
     "text": [
      "Found nonce = 32\n",
      "112c38d2fdb6ddaf32f371a390307ccc779cd92443b42c4b5c58fa548f63ed83\n"
     ]
    }
   ],
   "source": [
    "message = 'hello bitcoin'\n",
    "for nonce in range(1000):\n",
    "    digest = sha256(message + str(nonce))\n",
    "    if digest.startswith('11'):\n",
    "        print('Found nonce = %d' % nonce)\n",
    "        break\n",
    "print(sha256(message + str(nonce)))"
   ]
  },
  {
   "cell_type": "code",
   "execution_count": 4,
   "metadata": {
    "collapsed": false
   },
   "outputs": [],
   "source": [
    "def dumb_hash(message):\n",
    "    #returns a hexadecimal hash\n",
    "    return sha256(message)\n",
    "\n",
    "def mine(message, difficulty=1):\n",
    "    '''Given an input string, will return a nonce such that\n",
    "    hash(string + nonce) starts with difficulty ones.\n",
    "    \n",
    "    Returns: (nonce, niters)\n",
    "    nonce: The found nonce\n",
    "    niters: The number of iterations needed to find the nonce'''\n",
    "    \n",
    "    assert difficulty >= 1, '''Difficulty of zero is not possible'''\n",
    "    i = 0\n",
    "    prefix = '1' * difficulty\n",
    "    while True:\n",
    "        nonce = str(i)\n",
    "        digest = dumb_hash(message + nonce)\n",
    "        if digest.startswith(prefix):\n",
    "            return nonce, i\n",
    "        i += 1\n",
    "    "
   ]
  },
  {
   "cell_type": "code",
   "execution_count": 5,
   "metadata": {
    "collapsed": false
   },
   "outputs": [
    {
     "name": "stdout",
     "output_type": "stream",
     "text": [
      "Took 23 iterations\n",
      "Took 2272 iterations\n"
     ]
    }
   ],
   "source": [
    "nonce, niters = (mine('42',difficulty = 1))\n",
    "print('Took %d iterations' % niters)\n",
    "\n",
    "nonce, niters = (mine('42',difficulty = 3))\n",
    "print('Took %d iterations' % niters)"
   ]
  },
  {
   "cell_type": "code",
   "execution_count": 6,
   "metadata": {
    "collapsed": true
   },
   "outputs": [],
   "source": [
    "def random_string(length = 10):\n",
    "    return ''.join(random.choice(string.ascii_uppercase + string.digits) for _ in range(length))\n",
    "strings = [random_string() for i in range(50)]"
   ]
  },
  {
   "cell_type": "code",
   "execution_count": 7,
   "metadata": {
    "collapsed": false
   },
   "outputs": [],
   "source": [
    "levels = range(1,5)\n",
    "#An array of results with a row for each difficulty and a columnn for each test string\n",
    "results = pd.DataFrame(index = strings, columns=levels, dtype=np.int)\n",
    "results.fillna(value = 0)\n",
    "\n",
    "#results = np.zeros((N_LEVELS, len(strings)),dtype = np.int)\n",
    "for level in levels:\n",
    "    for s in strings:\n",
    "        _,niters = mine(s, difficulty=level)\n",
    "        results[level][s] = niters"
   ]
  },
  {
   "cell_type": "code",
   "execution_count": 8,
   "metadata": {
    "collapsed": false
   },
   "outputs": [
    {
     "data": {
      "text/html": [
       "<div>\n",
       "<table border=\"1\" class=\"dataframe\">\n",
       "  <thead>\n",
       "    <tr style=\"text-align: right;\">\n",
       "      <th></th>\n",
       "      <th>1</th>\n",
       "      <th>2</th>\n",
       "      <th>3</th>\n",
       "      <th>4</th>\n",
       "    </tr>\n",
       "  </thead>\n",
       "  <tbody>\n",
       "    <tr>\n",
       "      <th>STD4FISSMZ</th>\n",
       "      <td>41</td>\n",
       "      <td>170</td>\n",
       "      <td>8559</td>\n",
       "      <td>26306</td>\n",
       "    </tr>\n",
       "    <tr>\n",
       "      <th>KBJN034CQF</th>\n",
       "      <td>0</td>\n",
       "      <td>216</td>\n",
       "      <td>216</td>\n",
       "      <td>115895</td>\n",
       "    </tr>\n",
       "    <tr>\n",
       "      <th>7V6Z3E7WOV</th>\n",
       "      <td>26</td>\n",
       "      <td>67</td>\n",
       "      <td>2766</td>\n",
       "      <td>102903</td>\n",
       "    </tr>\n",
       "    <tr>\n",
       "      <th>1SG4POIWLE</th>\n",
       "      <td>26</td>\n",
       "      <td>405</td>\n",
       "      <td>1150</td>\n",
       "      <td>44498</td>\n",
       "    </tr>\n",
       "    <tr>\n",
       "      <th>6RTMYJ2ETY</th>\n",
       "      <td>2</td>\n",
       "      <td>82</td>\n",
       "      <td>1095</td>\n",
       "      <td>263989</td>\n",
       "    </tr>\n",
       "  </tbody>\n",
       "</table>\n",
       "</div>"
      ],
      "text/plain": [
       "             1    2     3       4\n",
       "STD4FISSMZ  41  170  8559   26306\n",
       "KBJN034CQF   0  216   216  115895\n",
       "7V6Z3E7WOV  26   67  2766  102903\n",
       "1SG4POIWLE  26  405  1150   44498\n",
       "6RTMYJ2ETY   2   82  1095  263989"
      ]
     },
     "execution_count": 8,
     "metadata": {},
     "output_type": "execute_result"
    }
   ],
   "source": [
    "results.iloc[:5]"
   ]
  },
  {
   "cell_type": "code",
   "execution_count": 9,
   "metadata": {
    "collapsed": false
   },
   "outputs": [
    {
     "data": {
      "text/plain": [
       "<matplotlib.text.Text at 0x7f8a88887898>"
      ]
     },
     "execution_count": 9,
     "metadata": {},
     "output_type": "execute_result"
    },
    {
     "data": {
      "image/png": "[encoded data removed]",
      "text/plain": [
       "<matplotlib.figure.Figure at 0x7f8a888bdac8>"
      ]
     },
     "metadata": {},
     "output_type": "display_data"
    }
   ],
   "source": [
    "pl.figure(figsize=(10,5))\n",
    "ax = pl.subplot(111)\n",
    "ax.set_title('Number of iterations to mine a nonce for various difficulty')\n",
    "results.plot.box(showfliers = False, ax=ax)\n",
    "ax.set_xlabel('Difficulty')\n",
    "ax.set_ylabel('Iterations')"
   ]
  },
  {
   "cell_type": "markdown",
   "metadata": {
    "collapsed": true
   },
   "source": [
    "## The Wallet"
   ]
  },
  {
   "cell_type": "code",
   "execution_count": 10,
   "metadata": {
    "collapsed": true
   },
   "outputs": [],
   "source": [
    "import Crypto\n",
    "import Crypto.Random\n",
    "from Crypto.Hash import SHA\n",
    "from Crypto.PublicKey import RSA\n",
    "from Crypto.Signature import PKCS1_v1_5\n",
    "\n",
    "class Wallet(object):\n",
    "    '''\n",
    "    A wallet is a private/public key pair\n",
    "    '''\n",
    "    def __init__(self):\n",
    "        random_gen = Crypto.Random.new().read\n",
    "        self._private_key = RSA.generate(1024, random_gen)\n",
    "        self._public_key = self._private_key.publickey()\n",
    "        self._signer = PKCS1_v1_5.new(self._private_key)\n",
    "    \n",
    "    @property\n",
    "    def address(self):\n",
    "        '''WE take a shortcut and say address is public key'''\n",
    "        return binascii.hexlify(self._public_key.exportKey(format='DER')).decode('ascii')\n",
    "    \n",
    "    def sign(self,message):\n",
    "        '''\n",
    "        Sign a message with this wallet\n",
    "        '''\n",
    "        h = SHA.new(message.encode('utf8'))\n",
    "        return binascii.hexlify(self._signer.sign(h)).decode('ascii')\n",
    "    \n",
    "def verify_signature(wallet_address, message, signature):\n",
    "    '''\n",
    "    Check that the provided signature corresponds to the message signed by the wallet at the wallet address\n",
    "    '''\n",
    "    pubkey = RSA.importKey(binascii.unhexlify(wallet_address))\n",
    "    verifier = PKCS1_v1_5.new(pubkey)\n",
    "    h = SHA.new(message.encode('utf8'))\n",
    "    return verifier.verify(h,binascii.unhexlify(signature))\n",
    "\n",
    "w1 = Wallet()\n",
    "signature = w1.sign('foobar')\n",
    "assert verify_signature(w1.address, 'foobar',signature)\n",
    "assert not verify_signature(w1.address, 'rogue message', signature)"
   ]
  },
  {
   "cell_type": "markdown",
   "metadata": {
    "collapsed": true
   },
   "source": [
    "## Doing Transactions"
   ]
  },
  {
   "cell_type": "code",
   "execution_count": 12,
   "metadata": {
    "collapsed": true
   },
   "outputs": [],
   "source": [
    "class TransactionInput(object):\n",
    "    '''\n",
    "    An input for a transaction. This points to an output of another transaction\n",
    "    '''\n",
    "    def __init__(self,transaction,output_index):\n",
    "        self.transaction = transaction\n",
    "        self.output_index = output_index\n",
    "        assert 0 <= self.output_index < len(transaction.outputs)\n",
    "        \n",
    "    def to_dict(self):\n",
    "        d = {\n",
    "            'transaction': self.transaction.hash(),\n",
    "            'output_index': self.output_index\n",
    "        }\n",
    "        return d\n",
    "    \n",
    "    @property\n",
    "    def parent_object(self):\n",
    "        return self.transaction.outputs[self.output_index]\n",
    "    \n",
    "class TransactionOutput(object):\n",
    "    '''\n",
    "    An output for a transaction. This specifies an amount and a a recipient wallet.\n",
    "    '''\n",
    "    def __init__(self,recipient_address, amount):\n",
    "        self.recipient = recipient_address\n",
    "        self.amount = amount\n",
    "    \n",
    "    def to_dict(self):\n",
    "        d = {\n",
    "            'recipient_address': self.recipient,\n",
    "            'amount': self.amount\n",
    "        }\n",
    "        return d\n",
    "    \n",
    "def compute_fee(inputs, outputs):\n",
    "    '''\n",
    "    Compute the transaction fee by computing the difference between total input and total output\n",
    "    '''\n",
    "    total_in = sum(i.transaction.outputs[i.output_index].amount for i in inputs)\n",
    "    total_out = sum(o.amount for o in outputs)\n",
    "    assert total_out <= total_in, \"Invalid transaction with out(%f) > in(%f)\" % (total_out, total_in)\n",
    "    return total_in - total_out\n",
    "\n",
    "class Transaction(object):\n",
    "    def __init__(self, wallet, inputs, outputs):\n",
    "        '''\n",
    "        Create a transaction spending money from the provided wallet\n",
    "        '''\n",
    "        self.inputs = inputs\n",
    "        self.outputs = outputs\n",
    "        self.fee = compute_fee(inputs,outputs)\n",
    "        self.signature = wallet.sign(json.dumps(self.to_dict(include_signature = False)))\n",
    "        \n",
    "    def to_dict(self, include_signature = True):\n",
    "        d = {\n",
    "            \"inputs\": list(map(TransactionInput.to_dict, self.inputs)),\n",
    "            \"outputs\": list(map(TransactionOutput.to_dict, self.outputs)),\n",
    "            \"fee\": self.fee\n",
    "        }\n",
    "        if include_signature:\n",
    "            d['signature'] = self.signature\n",
    "        return d\n",
    "    \n",
    "    def hash(self):\n",
    "        return dumb_hash(json.dumps(self.to_dict()))\n",
    "\n",
    "class GenesisTransaction(Transaction):\n",
    "    '''\n",
    "    This is the first transaction which is a special transaction\n",
    "    with no input and 25 bitcoins output\n",
    "    '''\n",
    "    def __init__(self, recipient_address, amount = 25):\n",
    "        self.inputs = []\n",
    "        self.outputs = [\n",
    "            TransactionOutput(recipient_address, amount)\n",
    "        ]\n",
    "        self.fee = 0\n",
    "        self.signature = 'genesis'\n",
    "        \n",
    "    def to_dict(self, include_signature=False):\n",
    "        #ToDo: Instead, should sign genesis transaction with a well-known public key\n",
    "        assert not include_signature, \"Cannot include signature of genesis transaction\"\n",
    "        return super().to_dict(include_signature=False)"
   ]
  },
  {
   "cell_type": "code",
   "execution_count": null,
   "metadata": {
    "collapsed": true
   },
   "outputs": [],
   "source": [
    "#Need to assign coins and transactions for alice and bob examples. "
   ]
  }
 ],
 "metadata": {
  "kernelspec": {
   "display_name": "Python 3",
   "language": "python",
   "name": "python3"
  },
  "language_info": {
   "codemirror_mode": {
    "name": "ipython",
    "version": 3
   },
   "file_extension": ".py",
   "mimetype": "text/x-python",
   "name": "python",
   "nbconvert_exporter": "python",
   "pygments_lexer": "ipython3",
   "version": "3.5.2"
  }
 },
 "nbformat": 4,
 "nbformat_minor": 2
}
